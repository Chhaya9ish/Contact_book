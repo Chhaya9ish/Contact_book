{
 "cells": [
  {
   "cell_type": "code",
   "execution_count": null,
   "id": "44c660b2-50bd-4d63-8c94-7d1e6887f381",
   "metadata": {},
   "outputs": [
    {
     "name": "stdout",
     "output_type": "stream",
     "text": [
      "\n",
      "Contact Book\n",
      "1. Add Contact\n",
      "2. Search Contact\n",
      "3. Update Contact\n",
      "4. Delete Contact\n",
      "5. Show All Contacts\n",
      "6. Exit\n"
     ]
    },
    {
     "name": "stdin",
     "output_type": "stream",
     "text": [
      "Enter your choice:  2\n",
      "Enter name to search:  chhaya\n"
     ]
    },
    {
     "name": "stdout",
     "output_type": "stream",
     "text": [
      "Contact not found.\n",
      "\n",
      "Contact Book\n",
      "1. Add Contact\n",
      "2. Search Contact\n",
      "3. Update Contact\n",
      "4. Delete Contact\n",
      "5. Show All Contacts\n",
      "6. Exit\n"
     ]
    },
    {
     "name": "stdin",
     "output_type": "stream",
     "text": [
      "Enter your choice:  3\n",
      "Enter name to update:  chhaya\n"
     ]
    },
    {
     "name": "stdout",
     "output_type": "stream",
     "text": [
      "Contact not found.\n",
      "\n",
      "Contact Book\n",
      "1. Add Contact\n",
      "2. Search Contact\n",
      "3. Update Contact\n",
      "4. Delete Contact\n",
      "5. Show All Contacts\n",
      "6. Exit\n"
     ]
    }
   ],
   "source": [
    "contacts = {}\n",
    "\n",
    "while True:\n",
    "    print(\"\\nContact Book\")\n",
    "    print(\"1. Add Contact\")\n",
    "    print(\"2. Search Contact\")\n",
    "    print(\"3. Update Contact\")\n",
    "    print(\"4. Delete Contact\")\n",
    "    print(\"5. Show All Contacts\")\n",
    "    print(\"6. Exit\")\n",
    "\n",
    "    choice = input(\"Enter your choice: \")\n",
    "\n",
    "    if choice == \"1\":\n",
    "        name = input(\"Enter name: \")\n",
    "        phone = input(\"Enter number: \")\n",
    "        contacts[name] = phone\n",
    "        print(\"Contact added.\")\n",
    "\n",
    "    elif choice == \"2\":\n",
    "        name = input(\"Enter name to search: \")\n",
    "        if name in contacts:\n",
    "            print(\"Number:\", contacts[name])\n",
    "        else:\n",
    "            print(\"Contact not found.\")\n",
    "\n",
    "    elif choice == \"3\":\n",
    "        name = input(\"Enter name to update: \")\n",
    "        if name in contacts:\n",
    "            phone = input(\"Enter new number: \")\n",
    "            contacts[name] = phone\n",
    "            print(\"Contact updated.\")\n",
    "        else:\n",
    "            print(\"Contact not found.\") \n",
    "\n",
    "    elif choice == \"4\":\n",
    "        name = input(\"Enter name to delete: \")\n",
    "        if name in contacts:\n",
    "            del contacts[name]\n",
    "            print(\"Contact deleted.\")\n",
    "        else:\n",
    "            print(\"Contact not found.\")\n",
    "\n",
    "    elif choice == \"5\":\n",
    "        print(\"\\nAll Contacts:\")\n",
    "        for name, phone in contacts.items():\n",
    "            print(name, \":\", phone)\n",
    "\n",
    "    elif choice == \"6\":\n",
    "        print(\"Goodbye!\")\n",
    "        break\n",
    "\n",
    "    else:\n",
    "        print(\"Invalid choice.\")"
   ]
  },
  {
   "cell_type": "code",
   "execution_count": null,
   "id": "24c0636d-7533-46e3-9506-a905c53704dd",
   "metadata": {},
   "outputs": [],
   "source": []
  }
 ],
 "metadata": {
  "kernelspec": {
   "display_name": "Python [conda env:anaconda_installation] *",
   "language": "python",
   "name": "conda-env-anaconda_installation-py"
  },
  "language_info": {
   "codemirror_mode": {
    "name": "ipython",
    "version": 3
   },
   "file_extension": ".py",
   "mimetype": "text/x-python",
   "name": "python",
   "nbconvert_exporter": "python",
   "pygments_lexer": "ipython3",
   "version": "3.12.7"
  }
 },
 "nbformat": 4,
 "nbformat_minor": 5
}
